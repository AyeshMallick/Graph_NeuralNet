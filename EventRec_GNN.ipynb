{
  "nbformat": 4,
  "nbformat_minor": 0,
  "metadata": {
    "colab": {
      "provenance": []
    },
    "kernelspec": {
      "name": "python3",
      "display_name": "Python 3"
    },
    "language_info": {
      "name": "python"
    }
  },
  "cells": [
    {
      "cell_type": "code",
      "source": [
        "!pip install torch==2.0.1 torchvision --quiet\n",
        "!pip install torch-scatter -f https://data.pyg.org/whl/torch-2.0.1+cu117.html --quiet\n",
        "!pip install torch-sparse -f https://data.pyg.org/whl/torch-2.0.1+cu117.html --quiet\n",
        "!pip install torch-cluster -f https://data.pyg.org/whl/torch-2.0.1+cu117.html --quiet\n",
        "!pip install torch-spline-conv -f https://data.pyg.org/whl/torch-2.0.1+cu117.html --quiet\n",
        "!pip install torch-geometric --quiet"
      ],
      "metadata": {
        "id": "78UWBKw5O98_"
      },
      "execution_count": 1,
      "outputs": []
    },
    {
      "cell_type": "code",
      "execution_count": 2,
      "metadata": {
        "id": "AsYJ1ginNfVU"
      },
      "outputs": [],
      "source": [
        "import random\n",
        "import torch\n",
        "import torch.nn as nn\n",
        "import torch.nn.functional as F\n",
        "import numpy as np"
      ]
    },
    {
      "cell_type": "code",
      "source": [
        "from torch_geometric.nn import GCNConv\n",
        "from torch_geometric.data import Data"
      ],
      "metadata": {
        "id": "6wj2u-BYOfmb"
      },
      "execution_count": 3,
      "outputs": []
    },
    {
      "cell_type": "code",
      "source": [
        "random.seed(0)\n",
        "torch.manual_seed(0)\n",
        "np.random.seed(0)"
      ],
      "metadata": {
        "id": "WQTFaZcSNqs0"
      },
      "execution_count": 4,
      "outputs": []
    },
    {
      "cell_type": "code",
      "source": [
        "import torch\n",
        "from torch_geometric.data import Data"
      ],
      "metadata": {
        "id": "gh2_U30cOSXB"
      },
      "execution_count": 7,
      "outputs": []
    },
    {
      "cell_type": "code",
      "source": [
        "import random\n",
        "import torch\n",
        "import numpy as np\n",
        "from torch_geometric.data import Data"
      ],
      "metadata": {
        "id": "0pu4U_owTKwh"
      },
      "execution_count": 12,
      "outputs": []
    },
    {
      "cell_type": "code",
      "source": [
        "random.seed(0)\n",
        "torch.manual_seed(0)\n",
        "np.random.seed(0)"
      ],
      "metadata": {
        "id": "ZYr4oN3KTSUa"
      },
      "execution_count": 13,
      "outputs": []
    },
    {
      "cell_type": "code",
      "source": [
        "# Import required libraries\n",
        "import random\n",
        "import torch\n",
        "import numpy as np\n",
        "from torch_geometric.data import Data\n",
        "\n",
        "# Set seeds for reproducibility\n",
        "random.seed(0)\n",
        "torch.manual_seed(0)\n",
        "np.random.seed(0)\n",
        "\n",
        "# Define the graph construction function\n",
        "def create_graph(users, events, friendships, interactions):\n",
        "    \"\"\"\n",
        "    Constructs a graph from lists of users, events, friendships, and user-event interactions.\n",
        "\n",
        "    Parameters:\n",
        "      users         : List of user identifiers (names or indices).\n",
        "      events        : List of event identifiers (names or indices).\n",
        "      friendships   : List of tuples representing edges between users.\n",
        "                      Each tuple is of the form (user_index_a, user_index_b).\n",
        "      interactions  : List of tuples representing user-event interactions.\n",
        "                      Each tuple is (user_index, event_index), where the event_index\n",
        "                      refers to the event in the 'events' list.\n",
        "\n",
        "    Returns:\n",
        "      data          : A PyTorch Geometric Data object containing:\n",
        "                      - x: Node feature matrix (randomly initialized for demonstration).\n",
        "                      - edge_index: A tensor that encodes graph connectivity.\n",
        "    \"\"\"\n",
        "    # Count the number of user nodes\n",
        "    num_users = len(users)\n",
        "\n",
        "    # Count the number of event nodes\n",
        "    num_events = len(events)\n",
        "\n",
        "    # Process friendships (user-to-user connections)\n",
        "    edge_index_friend = friendships\n",
        "\n",
        "    # Process interactions (user-event connections)\n",
        "    # Add an offset equal to num_users for event indices to ensure event nodes follow user nodes\n",
        "    edge_index_interact = [(u, v + num_users) for (u, v) in interactions]\n",
        "\n",
        "    # Combine both friendship and interaction edges into a single edge list\n",
        "    combined_edges = edge_index_friend + edge_index_interact\n",
        "\n",
        "    # Convert the combined edge list to a PyTorch tensor in shape [2, number_of_edges]\n",
        "    edge_index = torch.tensor(combined_edges, dtype=torch.long).t().contiguous()\n",
        "\n",
        "    # Create node features as random 16-dimensional vectors\n",
        "    x = torch.rand(num_users + num_events, 16)\n",
        "\n",
        "    # Return a PyTorch Geometric Data object encapsulating our graph\n",
        "    return Data(x=x, edge_index=edge_index)\n",
        "\n",
        "# ---------------- Sample Usage ----------------\n",
        "\n",
        "# Define example lists for users and events\n",
        "users = [\"Alice\", \"Bob\", \"Charlie\"]\n",
        "events = [\"Concert\", \"Festival\"]\n",
        "\n",
        "# Define sample friendships: bidirectional edges among users (using indices based on the 'users' list)\n",
        "friendships = [(0, 1), (1, 0), (1, 2), (2, 1)]\n",
        "\n",
        "# Define sample interactions: each tuple (user_index, event_index)\n",
        "# For example: Alice (index 0) interacts with \"Concert\" (index 0) and Charlie (index 2) interacts with \"Festival\" (index 1)\n",
        "interactions = [(0, 0), (2, 1)]\n",
        "\n",
        "# Create the graph data structure by calling our function\n",
        "graph_data = create_graph(users, events, friendships, interactions)\n",
        "\n",
        "# Print node features (x) and edge index to verify correct graph construction\n",
        "print(\"Node Features (x):\")\n",
        "print(graph_data.x)\n",
        "print(\"\\nEdge Index:\")\n",
        "print(graph_data.edge_index)\n"
      ],
      "metadata": {
        "colab": {
          "base_uri": "https://localhost:8080/"
        },
        "id": "iqIIk6T5UpsW",
        "outputId": "12618e96-91ec-4824-b3ce-97a8c13e8ca9"
      },
      "execution_count": 14,
      "outputs": [
        {
          "output_type": "stream",
          "name": "stdout",
          "text": [
            "Node Features (x):\n",
            "tensor([[0.4963, 0.7682, 0.0885, 0.1320, 0.3074, 0.6341, 0.4901, 0.8964, 0.4556,\n",
            "         0.6323, 0.3489, 0.4017, 0.0223, 0.1689, 0.2939, 0.5185],\n",
            "        [0.6977, 0.8000, 0.1610, 0.2823, 0.6816, 0.9152, 0.3971, 0.8742, 0.4194,\n",
            "         0.5529, 0.9527, 0.0362, 0.1852, 0.3734, 0.3051, 0.9320],\n",
            "        [0.1759, 0.2698, 0.1507, 0.0317, 0.2081, 0.9298, 0.7231, 0.7423, 0.5263,\n",
            "         0.2437, 0.5846, 0.0332, 0.1387, 0.2422, 0.8155, 0.7932],\n",
            "        [0.2783, 0.4820, 0.8198, 0.9971, 0.6984, 0.5675, 0.8352, 0.2056, 0.5932,\n",
            "         0.1123, 0.1535, 0.2417, 0.7262, 0.7011, 0.2038, 0.6511],\n",
            "        [0.7745, 0.4369, 0.5191, 0.6159, 0.8102, 0.9801, 0.1147, 0.3168, 0.6965,\n",
            "         0.9143, 0.9351, 0.9412, 0.5995, 0.0652, 0.5460, 0.1872]])\n",
            "\n",
            "Edge Index:\n",
            "tensor([[0, 1, 1, 2, 0, 2],\n",
            "        [1, 0, 2, 1, 3, 4]])\n"
          ]
        }
      ]
    },
    {
      "cell_type": "code",
      "source": [
        "# Import required libraries\n",
        "import torch\n",
        "import torch.nn as nn\n",
        "import torch.nn.functional as F\n",
        "from torch_geometric.nn import GCNConv\n",
        "\n",
        "# Define the Graph Neural Network Model\n",
        "class EventRecommendationGNN(nn.Module):\n",
        "    def __init__(self):\n",
        "        super(EventRecommendationGNN, self).__init__()\n",
        "        # First GCN layer: transforms input features (16-dim) to hidden features (32-dim)\n",
        "        self.conv1 = GCNConv(16, 32)\n",
        "        # Second GCN layer: transforms hidden features (32-dim) back to output features (16-dim)\n",
        "        self.conv2 = GCNConv(32, 16)\n",
        "\n",
        "    def forward(self, data):\n",
        "        \"\"\"\n",
        "        Forward pass of the GNN model.\n",
        "\n",
        "        Parameters:\n",
        "          data: PyTorch Geometric Data object containing:\n",
        "                - x: Node feature matrix.\n",
        "                - edge_index: Edge list tensor representing graph connectivity.\n",
        "\n",
        "        Returns:\n",
        "          x: Updated node embeddings after applying two GCN layers.\n",
        "        \"\"\"\n",
        "        x, edge_index = data.x, data.edge_index\n",
        "\n",
        "        # Apply the first GCN layer followed by ReLU activation\n",
        "        x = self.conv1(x, edge_index)\n",
        "        x = F.relu(x)\n",
        "\n",
        "        # Apply the second GCN layer\n",
        "        x = self.conv2(x, edge_index)\n",
        "\n",
        "        return x"
      ],
      "metadata": {
        "id": "ReIglUBQVeCA"
      },
      "execution_count": 15,
      "outputs": []
    },
    {
      "cell_type": "code",
      "source": [
        "def train_model(data, epochs=100, lr=0.01):\n",
        "    \"\"\"\n",
        "    Trains the EventRecommendationGNN model on the given graph data.\n",
        "\n",
        "    Parameters:\n",
        "      data: PyTorch Geometric Data object containing graph structure and features.\n",
        "      epochs: Number of training epochs (default=100).\n",
        "      lr: Learning rate for optimizer (default=0.01).\n",
        "\n",
        "    Returns:\n",
        "      model: Trained EventRecommendationGNN model.\n",
        "    \"\"\"\n",
        "    # Initialize the model\n",
        "    model = EventRecommendationGNN()\n",
        "\n",
        "    # Define an optimizer (Adam is commonly used for GNNs)\n",
        "    optimizer = torch.optim.Adam(model.parameters(), lr=lr)\n",
        "\n",
        "    # For demonstration purposes, use node features as dummy targets\n",
        "    target = data.x.clone()\n",
        "\n",
        "    # Training loop\n",
        "    for epoch in range(epochs):\n",
        "        model.train()  # Set model to training mode\n",
        "        optimizer.zero_grad()  # Reset gradients\n",
        "\n",
        "        # Forward pass through the model\n",
        "        output = model(data)\n",
        "\n",
        "        # Compute loss (Mean Squared Error between output and target)\n",
        "        loss = F.mse_loss(output, target)\n",
        "\n",
        "        # Backward pass and optimization step\n",
        "        loss.backward()\n",
        "        optimizer.step()\n",
        "\n",
        "        # Print loss every 10 epochs\n",
        "        if (epoch + 1) % 10 == 0:\n",
        "            print(f\"Epoch {epoch+1}/{epochs}, Loss: {loss.item():.4f}\")\n",
        "\n",
        "    return model\n"
      ],
      "metadata": {
        "id": "Cd81-0YAVmU8"
      },
      "execution_count": 16,
      "outputs": []
    },
    {
      "cell_type": "code",
      "source": [
        "def recommend_events(model, data, num_users, k=5):\n",
        "    \"\"\"\n",
        "    Generates event recommendations for each user based on trained embeddings.\n",
        "\n",
        "    Parameters:\n",
        "      model: Trained EventRecommendationGNN model.\n",
        "      data: PyTorch Geometric Data object containing graph structure and features.\n",
        "      num_users: Number of user nodes in the graph.\n",
        "      k: Number of top events to recommend per user (default=5).\n",
        "\n",
        "    Returns:\n",
        "      recommendations: Indices of top-k recommended events for each user.\n",
        "      scores: Scores associated with each recommendation.\n",
        "    \"\"\"\n",
        "    model.eval()  # Set model to evaluation mode\n",
        "\n",
        "    with torch.no_grad():\n",
        "        # Get updated node embeddings from the trained model\n",
        "        embeddings = model(data)\n",
        "\n",
        "    # Separate user and event embeddings\n",
        "    user_embeddings = embeddings[:num_users]\n",
        "    event_embeddings = embeddings[num_users:]\n",
        "\n",
        "    # Compute similarity scores between users and events using dot product\n",
        "    scores = torch.matmul(user_embeddings, event_embeddings.t())\n",
        "\n",
        "    # Get top-k events for each user based on similarity scores\n",
        "    topk = torch.topk(scores, k=k, dim=1)\n",
        "\n",
        "    return topk.indices, topk.values\n"
      ],
      "metadata": {
        "id": "TS-msml7VtvZ"
      },
      "execution_count": 17,
      "outputs": []
    },
    {
      "cell_type": "code",
      "source": [
        "# Define example lists for users and events\n",
        "users = [\"Alice\", \"Bob\", \"Charlie\"]\n",
        "events = [\"Concert\", \"Festival\"]\n",
        "\n",
        "# Define sample friendships and interactions\n",
        "friendships = [(0, 1), (1, 0), (1, 2), (2, 1)]\n",
        "interactions = [(0, 0), (2, 1)]\n",
        "\n",
        "# Step 1: Create graph data structure\n",
        "graph_data = create_graph(users, events, friendships, interactions)\n",
        "\n",
        "# Step 2 & Step 3: Train the GNN model on the graph data\n",
        "print(\"Training the GNN Model...\")\n",
        "trained_model = train_model(graph_data)\n",
        "\n",
        "# Step 4: Generate event recommendations for each user\n",
        "print(\"\\nGenerating Recommendations...\")\n",
        "recommendations, scores = recommend_events(trained_model, graph_data, num_users=len(users), k=2)\n",
        "\n",
        "# Display recommendations for each user\n",
        "for i, rec in enumerate(recommendations):\n",
        "    print(f\"User {users[i]} is recommended events {[events[idx] for idx in rec]}\")\n"
      ],
      "metadata": {
        "colab": {
          "base_uri": "https://localhost:8080/"
        },
        "id": "l9AQFFp2Vy7_",
        "outputId": "5bc959c8-3c45-4f35-b6c6-be12d4319cf3"
      },
      "execution_count": 18,
      "outputs": [
        {
          "output_type": "stream",
          "name": "stdout",
          "text": [
            "Training the GNN Model...\n",
            "Epoch 10/100, Loss: 0.0869\n",
            "Epoch 20/100, Loss: 0.0723\n",
            "Epoch 30/100, Loss: 0.0625\n",
            "Epoch 40/100, Loss: 0.0554\n",
            "Epoch 50/100, Loss: 0.0486\n",
            "Epoch 60/100, Loss: 0.0431\n",
            "Epoch 70/100, Loss: 0.0393\n",
            "Epoch 80/100, Loss: 0.0369\n",
            "Epoch 90/100, Loss: 0.0355\n",
            "Epoch 100/100, Loss: 0.0347\n",
            "\n",
            "Generating Recommendations...\n",
            "User Alice is recommended events ['Concert', 'Festival']\n",
            "User Bob is recommended events ['Concert', 'Festival']\n",
            "User Charlie is recommended events ['Concert', 'Festival']\n"
          ]
        }
      ]
    },
    {
      "cell_type": "code",
      "source": [
        "# Import necessary libraries\n",
        "import torch\n",
        "import torch.nn as nn\n",
        "import torch.nn.functional as F\n",
        "from torch_geometric.nn import GCNConv\n",
        "\n",
        "# Define the Graph Neural Network Model\n",
        "class EventRecommendationGNN(nn.Module):\n",
        "    def __init__(self):\n",
        "        super(EventRecommendationGNN, self).__init__()\n",
        "        # First GCN layer: transforms input features (16-dim) to hidden features (32-dim)\n",
        "        self.conv1 = GCNConv(16, 32)\n",
        "        # Second GCN layer: transforms hidden features (32-dim) back to output features (16-dim)\n",
        "        self.conv2 = GCNConv(32, 16)\n",
        "\n",
        "    def forward(self, data):\n",
        "        \"\"\"\n",
        "        Forward pass of the GNN model.\n",
        "\n",
        "        Parameters:\n",
        "          data: PyTorch Geometric Data object containing:\n",
        "                - x: Node feature matrix.\n",
        "                - edge_index: Edge list tensor representing graph connectivity.\n",
        "\n",
        "        Returns:\n",
        "          x: Updated node embeddings after applying two GCN layers.\n",
        "        \"\"\"\n",
        "        x, edge_index = data.x, data.edge_index\n",
        "\n",
        "        # Apply the first GCN layer followed by ReLU activation\n",
        "        x = self.conv1(x, edge_index)\n",
        "        x = F.relu(x)\n",
        "\n",
        "        # Apply the second GCN layer\n",
        "        x = self.conv2(x, edge_index)\n",
        "\n",
        "        return x\n"
      ],
      "metadata": {
        "id": "gIvt2q8XcyKK"
      },
      "execution_count": 19,
      "outputs": []
    },
    {
      "cell_type": "code",
      "source": [
        "def train_model(data, epochs=100, lr=0.01):\n",
        "    \"\"\"\n",
        "    Trains the EventRecommendationGNN model on the given graph data.\n",
        "\n",
        "    Parameters:\n",
        "      data: PyTorch Geometric Data object containing graph structure and features.\n",
        "      epochs: Number of training epochs (default=100).\n",
        "      lr: Learning rate for optimizer (default=0.01).\n",
        "\n",
        "    Returns:\n",
        "      model: Trained EventRecommendationGNN model.\n",
        "    \"\"\"\n",
        "    # Initialize the model\n",
        "    model = EventRecommendationGNN()\n",
        "\n",
        "    # Define an optimizer (Adam is commonly used for GNNs)\n",
        "    optimizer = torch.optim.Adam(model.parameters(), lr=lr)\n",
        "\n",
        "    # For demonstration purposes, use node features as dummy targets\n",
        "    target = data.x.clone()\n",
        "\n",
        "    # Training loop\n",
        "    for epoch in range(epochs):\n",
        "        model.train()  # Set model to training mode\n",
        "        optimizer.zero_grad()  # Reset gradients\n",
        "\n",
        "        # Forward pass through the model\n",
        "        output = model(data)\n",
        "\n",
        "        # Compute loss (Mean Squared Error between output and target)\n",
        "        loss = F.mse_loss(output, target)\n",
        "\n",
        "        # Backward pass and optimization step\n",
        "        loss.backward()\n",
        "        optimizer.step()\n",
        "\n",
        "        # Print loss every 10 epochs\n",
        "        if (epoch + 1) % 10 == 0:\n",
        "            print(f\"Epoch {epoch+1}/{epochs}, Loss: {loss.item():.4f}\")\n",
        "\n",
        "    return model\n"
      ],
      "metadata": {
        "id": "OXbCWWDMc7Tr"
      },
      "execution_count": 20,
      "outputs": []
    },
    {
      "cell_type": "code",
      "source": [
        "def recommend_events(model, data, num_users, k=5):\n",
        "    \"\"\"\n",
        "    Generates event recommendations for each user based on trained embeddings.\n",
        "\n",
        "    Parameters:\n",
        "      model: Trained EventRecommendationGNN model.\n",
        "      data: PyTorch Geometric Data object containing graph structure and features.\n",
        "      num_users: Number of user nodes in the graph.\n",
        "      k: Number of top events to recommend per user (default=5).\n",
        "\n",
        "    Returns:\n",
        "      recommendations: Indices of top-k recommended events for each user.\n",
        "      scores: Scores associated with each recommendation.\n",
        "    \"\"\"\n",
        "    model.eval()  # Set model to evaluation mode\n",
        "\n",
        "    with torch.no_grad():\n",
        "        # Get updated node embeddings from the trained model\n",
        "        embeddings = model(data)\n",
        "\n",
        "    # Separate user and event embeddings\n",
        "    user_embeddings = embeddings[:num_users]\n",
        "    event_embeddings = embeddings[num_users:]\n",
        "\n",
        "    # Compute similarity scores between users and events using dot product\n",
        "    scores = torch.matmul(user_embeddings, event_embeddings.t())\n",
        "\n",
        "    # Get top-k events for each user based on similarity scores\n",
        "    topk = torch.topk(scores, k=k, dim=1)\n",
        "\n",
        "    return topk.indices, topk.values\n"
      ],
      "metadata": {
        "id": "mkLQ_5PedJ-T"
      },
      "execution_count": 21,
      "outputs": []
    },
    {
      "cell_type": "code",
      "source": [
        "# Define example lists for users and events\n",
        "users = [\"Alice\", \"Bob\", \"Charlie\"]\n",
        "events = [\"Concert\", \"Festival\"]\n",
        "\n",
        "# Define sample friendships and interactions\n",
        "friendships = [(0, 1), (1, 0), (1, 2), (2, 1)]\n",
        "interactions = [(0, 0), (2, 1)]\n",
        "\n",
        "# Step 1: Create graph data structure\n",
        "graph_data = create_graph(users, events, friendships, interactions)\n",
        "\n",
        "# Step 2 & Step 3: Train the GNN model on the graph data\n",
        "print(\"Training the GNN Model...\")\n",
        "trained_model = train_model(graph_data)\n",
        "\n",
        "# Step 4: Generate event recommendations for each user\n",
        "print(\"\\nGenerating Recommendations...\")\n",
        "recommendations, scores = recommend_events(trained_model, graph_data, num_users=len(users), k=2)\n",
        "\n",
        "# Display recommendations for each user\n",
        "for i, rec in enumerate(recommendations):\n",
        "    print(f\"User {users[i]} is recommended events {[events[idx] for idx in rec]}\")\n"
      ],
      "metadata": {
        "colab": {
          "base_uri": "https://localhost:8080/"
        },
        "id": "CR42SsBldQpY",
        "outputId": "2ee662aa-7e56-414a-856d-e0f474c64f26"
      },
      "execution_count": 22,
      "outputs": [
        {
          "output_type": "stream",
          "name": "stdout",
          "text": [
            "Training the GNN Model...\n",
            "Epoch 10/100, Loss: 0.0625\n",
            "Epoch 20/100, Loss: 0.0551\n",
            "Epoch 30/100, Loss: 0.0459\n",
            "Epoch 40/100, Loss: 0.0410\n",
            "Epoch 50/100, Loss: 0.0365\n",
            "Epoch 60/100, Loss: 0.0328\n",
            "Epoch 70/100, Loss: 0.0298\n",
            "Epoch 80/100, Loss: 0.0275\n",
            "Epoch 90/100, Loss: 0.0259\n",
            "Epoch 100/100, Loss: 0.0249\n",
            "\n",
            "Generating Recommendations...\n",
            "User Alice is recommended events ['Concert', 'Festival']\n",
            "User Bob is recommended events ['Concert', 'Festival']\n",
            "User Charlie is recommended events ['Concert', 'Festival']\n"
          ]
        }
      ]
    },
    {
      "cell_type": "code",
      "source": [
        "def train_model(data, epochs=100, lr=0.01):\n",
        "    \"\"\"\n",
        "    Trains the EventRecommendationGNN model on the given graph data.\n",
        "\n",
        "    Parameters:\n",
        "      data: PyTorch Geometric Data object containing graph structure and features.\n",
        "      epochs: Number of training epochs (default=100).\n",
        "      lr: Learning rate for optimizer (default=0.01).\n",
        "\n",
        "    Returns:\n",
        "      model: Trained EventRecommendationGNN model.\n",
        "    \"\"\"\n",
        "    # Initialize the GNN model\n",
        "    model = EventRecommendationGNN()\n",
        "\n",
        "    # Define an optimizer (Adam is commonly used for GNNs)\n",
        "    optimizer = torch.optim.Adam(model.parameters(), lr=lr)\n",
        "\n",
        "    # For demonstration purposes, use node features as dummy targets\n",
        "    target = data.x.clone()\n",
        "\n",
        "    # Training loop\n",
        "    for epoch in range(epochs):\n",
        "        model.train()  # Set model to training mode\n",
        "        optimizer.zero_grad()  # Reset gradients\n",
        "\n",
        "        # Forward pass through the model\n",
        "        output = model(data)\n",
        "\n",
        "        # Compute loss (Mean Squared Error between output and target)\n",
        "        loss = F.mse_loss(output, target)\n",
        "\n",
        "        # Backward pass and optimization step\n",
        "        loss.backward()\n",
        "        optimizer.step()\n",
        "\n",
        "        # Print loss every 10 epochs\n",
        "        if (epoch + 1) % 10 == 0:\n",
        "            print(f\"Epoch {epoch+1}/{epochs}, Loss: {loss.item():.4f}\")\n",
        "\n",
        "    return model\n"
      ],
      "metadata": {
        "id": "sEFHGM2LfeU_"
      },
      "execution_count": 23,
      "outputs": []
    },
    {
      "cell_type": "code",
      "source": [
        "# Train the GNN Model\n",
        "print(\"Training the GNN Model...\")\n",
        "trained_model = train_model(graph_data, epochs=100, lr=0.01)\n"
      ],
      "metadata": {
        "colab": {
          "base_uri": "https://localhost:8080/"
        },
        "id": "lkC0NyCNfxsB",
        "outputId": "dc5cc360-aa25-4c8d-9ee1-3ddf36ac22f0"
      },
      "execution_count": 24,
      "outputs": [
        {
          "output_type": "stream",
          "name": "stdout",
          "text": [
            "Training the GNN Model...\n",
            "Epoch 10/100, Loss: 0.0858\n",
            "Epoch 20/100, Loss: 0.0633\n",
            "Epoch 30/100, Loss: 0.0545\n",
            "Epoch 40/100, Loss: 0.0510\n",
            "Epoch 50/100, Loss: 0.0472\n",
            "Epoch 60/100, Loss: 0.0436\n",
            "Epoch 70/100, Loss: 0.0397\n",
            "Epoch 80/100, Loss: 0.0355\n",
            "Epoch 90/100, Loss: 0.0319\n",
            "Epoch 100/100, Loss: 0.0291\n"
          ]
        }
      ]
    },
    {
      "cell_type": "code",
      "source": [
        "def recommend_events(model, data, num_users, k=5):\n",
        "    \"\"\"\n",
        "    Generates event recommendations for each user based on trained embeddings.\n",
        "\n",
        "    Parameters:\n",
        "      model: Trained EventRecommendationGNN model.\n",
        "      data: PyTorch Geometric Data object containing graph structure and features.\n",
        "      num_users: Number of user nodes in the graph.\n",
        "      k: Number of top events to recommend per user (default=5).\n",
        "\n",
        "    Returns:\n",
        "      recommendations: Indices of top-k recommended events for each user.\n",
        "      scores: Scores associated with each recommendation.\n",
        "    \"\"\"\n",
        "    model.eval()  # Set model to evaluation mode\n",
        "\n",
        "    with torch.no_grad():\n",
        "        # Get updated node embeddings from the trained model\n",
        "        embeddings = model(data)\n",
        "\n",
        "    # Separate user and event embeddings\n",
        "    user_embeddings = embeddings[:num_users]\n",
        "    event_embeddings = embeddings[num_users:]\n",
        "\n",
        "    # Compute similarity scores between users and events using dot product\n",
        "    scores = torch.matmul(user_embeddings, event_embeddings.t())\n",
        "\n",
        "    # Get top-k events for each user based on similarity scores\n",
        "    topk = torch.topk(scores, k=k, dim=1)\n",
        "\n",
        "    return topk.indices, topk.values\n"
      ],
      "metadata": {
        "id": "6hkVlEFHiCkE"
      },
      "execution_count": 25,
      "outputs": []
    },
    {
      "cell_type": "code",
      "source": [
        "# Generate event recommendations for each user\n",
        "print(\"\\nGenerating Recommendations...\")\n",
        "recommendations, scores = recommend_events(trained_model, graph_data, num_users=len(users), k=2)\n",
        "\n",
        "# Display recommendations for each user\n",
        "for i, rec in enumerate(recommendations):\n",
        "    print(f\"User {users[i]} is recommended events {[events[idx] for idx in rec]}\")\n"
      ],
      "metadata": {
        "colab": {
          "base_uri": "https://localhost:8080/"
        },
        "id": "rt6DtXEpiJqN",
        "outputId": "f969542c-eff3-4db5-8661-e5327348e20a"
      },
      "execution_count": 26,
      "outputs": [
        {
          "output_type": "stream",
          "name": "stdout",
          "text": [
            "\n",
            "Generating Recommendations...\n",
            "User Alice is recommended events ['Concert', 'Festival']\n",
            "User Bob is recommended events ['Concert', 'Festival']\n",
            "User Charlie is recommended events ['Concert', 'Festival']\n"
          ]
        }
      ]
    }
  ]
}